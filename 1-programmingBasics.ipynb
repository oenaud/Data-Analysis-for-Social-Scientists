{
 "cells": [
  {
   "cell_type": "markdown",
   "metadata": {},
   "source": [
    "The corresponding R commands are put as a comment at the start of the cell"
   ]
  },
  {
   "cell_type": "markdown",
   "metadata": {},
   "source": [
    "# 3. Sequences of Numbers"
   ]
  },
  {
   "cell_type": "code",
   "execution_count": 1,
   "metadata": {},
   "outputs": [
    {
     "name": "stdout",
     "output_type": "stream",
     "text": [
      "[1, 2, 3]\n"
     ]
    }
   ],
   "source": [
    "# a  <- [1,2,3]\n",
    "a =[1,2,3]\n",
    "a[1]\n",
    "print(a)"
   ]
  },
  {
   "cell_type": "code",
   "execution_count": 2,
   "metadata": {},
   "outputs": [
    {
     "data": {
      "text/plain": [
       "[1, 2, 3, 4, 5, 6, 7, 8, 9, 10, 11, 12, 13, 14, 15, 16, 17, 18, 19, 20]"
      ]
     },
     "execution_count": 2,
     "metadata": {},
     "output_type": "execute_result"
    }
   ],
   "source": [
    "#1:20\n",
    "list(range(1,21))\n",
    "#python does not include the end of the sequence"
   ]
  },
  {
   "cell_type": "code",
   "execution_count": 3,
   "metadata": {},
   "outputs": [
    {
     "ename": "TypeError",
     "evalue": "'float' object cannot be interpreted as an integer",
     "output_type": "error",
     "traceback": [
      "\u001b[0;31m---------------------------------------------------------------------------\u001b[0m",
      "\u001b[0;31mTypeError\u001b[0m                                 Traceback (most recent call last)",
      "\u001b[0;32m<ipython-input-3-d4a2b8eced7f>\u001b[0m in \u001b[0;36m<module>\u001b[0;34m()\u001b[0m\n\u001b[1;32m      1\u001b[0m \u001b[0;31m#pi:10\u001b[0m\u001b[0;34m\u001b[0m\u001b[0;34m\u001b[0m\u001b[0m\n\u001b[1;32m      2\u001b[0m \u001b[0;32mimport\u001b[0m \u001b[0mmath\u001b[0m\u001b[0;34m\u001b[0m\u001b[0m\n\u001b[0;32m----> 3\u001b[0;31m \u001b[0mprint\u001b[0m\u001b[0;34m(\u001b[0m\u001b[0mlist\u001b[0m\u001b[0;34m(\u001b[0m\u001b[0mrange\u001b[0m\u001b[0;34m(\u001b[0m\u001b[0mmath\u001b[0m\u001b[0;34m.\u001b[0m\u001b[0mpi\u001b[0m\u001b[0;34m,\u001b[0m\u001b[0;36m10\u001b[0m\u001b[0;34m)\u001b[0m\u001b[0;34m)\u001b[0m\u001b[0;34m)\u001b[0m\u001b[0;34m\u001b[0m\u001b[0m\n\u001b[0m\u001b[1;32m      4\u001b[0m \u001b[0;31m#python forces the range() parameters to be integers\u001b[0m\u001b[0;34m\u001b[0m\u001b[0;34m\u001b[0m\u001b[0m\n",
      "\u001b[0;31mTypeError\u001b[0m: 'float' object cannot be interpreted as an integer"
     ]
    }
   ],
   "source": [
    "#pi:10\n",
    "import math\n",
    "print(list(range(math.pi,10)))\n",
    "#python forces the range() parameters to be integers"
   ]
  },
  {
   "cell_type": "code",
   "execution_count": 4,
   "metadata": {
    "scrolled": true
   },
   "outputs": [
    {
     "name": "stdout",
     "output_type": "stream",
     "text": [
      "[3.141592653589793, 4.141592653589793, 5.141592653589793, 6.141592653589793, 7.141592653589793, 8.141592653589793, 9.141592653589793]\n"
     ]
    }
   ],
   "source": [
    "#pi:10\n",
    "print([i + math.pi for i in range(0,7)])"
   ]
  },
  {
   "cell_type": "code",
   "execution_count": 5,
   "metadata": {},
   "outputs": [
    {
     "name": "stdout",
     "output_type": "stream",
     "text": [
      "1st attempt\n",
      "[]\n",
      "2nd attempt\n",
      "[15, 14, 13, 12, 11, 10, 9, 8, 7, 6, 5, 4, 3, 2, 1]\n"
     ]
    }
   ],
   "source": [
    "#15:1\n",
    "print('1st attempt')\n",
    "print(list(range(15,1)))\n",
    "print('2nd attempt')\n",
    "print(list(range(15,0,-1)))\n",
    "#python treats sequences as increasing numbers unless specified otherwise"
   ]
  },
  {
   "cell_type": "code",
   "execution_count": 6,
   "metadata": {},
   "outputs": [
    {
     "ename": "TypeError",
     "evalue": "'float' object cannot be interpreted as an integer",
     "output_type": "error",
     "traceback": [
      "\u001b[0;31m---------------------------------------------------------------------------\u001b[0m",
      "\u001b[0;31mTypeError\u001b[0m                                 Traceback (most recent call last)",
      "\u001b[0;32m<ipython-input-6-b75579c342f3>\u001b[0m in \u001b[0;36m<module>\u001b[0;34m()\u001b[0m\n\u001b[1;32m      1\u001b[0m \u001b[0;31m#seq(0, 10, by=0.5)\u001b[0m\u001b[0;34m\u001b[0m\u001b[0;34m\u001b[0m\u001b[0m\n\u001b[0;32m----> 2\u001b[0;31m \u001b[0mprint\u001b[0m\u001b[0;34m(\u001b[0m\u001b[0mlist\u001b[0m\u001b[0;34m(\u001b[0m \u001b[0mrange\u001b[0m\u001b[0;34m(\u001b[0m\u001b[0;36m0\u001b[0m\u001b[0;34m,\u001b[0m\u001b[0;36m11\u001b[0m\u001b[0;34m,\u001b[0m\u001b[0;36m0.5\u001b[0m\u001b[0;34m)\u001b[0m\u001b[0;34m)\u001b[0m\u001b[0;34m)\u001b[0m\u001b[0;34m\u001b[0m\u001b[0m\n\u001b[0m",
      "\u001b[0;31mTypeError\u001b[0m: 'float' object cannot be interpreted as an integer"
     ]
    }
   ],
   "source": [
    "#seq(0, 10, by=0.5)\n",
    "print(list( range(0,11,0.5)))"
   ]
  },
  {
   "cell_type": "code",
   "execution_count": 7,
   "metadata": {},
   "outputs": [
    {
     "name": "stdout",
     "output_type": "stream",
     "text": [
      "[0.0, 0.5, 1.0, 1.5, 2.0, 2.5, 3.0, 3.5, 4.0, 4.5, 5.0, 5.5, 6.0, 6.5, 7.0, 7.5, 8.0, 8.5, 9.0, 9.5, 10.0]\n"
     ]
    },
    {
     "data": {
      "text/plain": [
       "[0, 2, 4, 6, 8, 10, 12, 14, 16, 18, 20]"
      ]
     },
     "execution_count": 7,
     "metadata": {},
     "output_type": "execute_result"
    }
   ],
   "source": [
    "#seq(0, 10, by=0.5)\n",
    "by = 1/2\n",
    "print([by*i for i in range(0, int(10/by)+1)])\n",
    "#seq(0, 20, by=2)\n",
    "list(range(0,21,2))"
   ]
  },
  {
   "cell_type": "code",
   "execution_count": 8,
   "metadata": {
    "collapsed": true
   },
   "outputs": [],
   "source": [
    "#seq(5, 10, length=30)\n",
    "#no python equivalent"
   ]
  },
  {
   "cell_type": "code",
   "execution_count": 9,
   "metadata": {},
   "outputs": [
    {
     "name": "stdout",
     "output_type": "stream",
     "text": [
      "[5.0, 5.172413793103448, 5.344827586206897, 5.517241379310345, 5.689655172413794, 5.862068965517241, 6.0344827586206895, 6.206896551724138, 6.379310344827586, 6.551724137931035, 6.724137931034483, 6.896551724137931, 7.068965517241379, 7.241379310344827, 7.413793103448276, 7.586206896551724, 7.758620689655173, 7.931034482758621, 8.10344827586207, 8.275862068965518, 8.448275862068966, 8.620689655172415, 8.793103448275861, 8.96551724137931, 9.137931034482758, 9.310344827586206, 9.482758620689655, 9.655172413793103, 9.827586206896552, 10.0]\n",
      "30\n"
     ]
    }
   ],
   "source": [
    "#my_seq <- seq(5, 10, length=30)\n",
    "start = 5\n",
    "end = 10\n",
    "nb = 30\n",
    "my_seq = [start + (end-start)/(nb-1)*i for i in range(nb)]\n",
    "print(my_seq)\n",
    "print(len(my_seq))"
   ]
  },
  {
   "cell_type": "code",
   "execution_count": 10,
   "metadata": {},
   "outputs": [
    {
     "name": "stdout",
     "output_type": "stream",
     "text": [
      "[0, 1, 2, 3, 4, 5, 6, 7, 8, 9, 10, 11, 12, 13, 14, 15, 16, 17, 18, 19, 20, 21, 22, 23, 24, 25, 26, 27, 28, 29]\n",
      "[1, 2, 3, 4, 5, 6, 7, 8, 9, 10, 11, 12, 13, 14, 15, 16, 17, 18, 19, 20, 21, 22, 23, 24, 25, 26, 27, 28, 29, 30]\n"
     ]
    }
   ],
   "source": [
    "#1:length(my_seq)\n",
    "#seq_along(my_seq)\n",
    "print(list(range(len(my_seq))))\n",
    "print([1+i for i in range(len(my_seq))])\n",
    "#python's indexes start at 0"
   ]
  },
  {
   "cell_type": "code",
   "execution_count": 11,
   "metadata": {},
   "outputs": [
    {
     "name": "stdout",
     "output_type": "stream",
     "text": [
      "[0, 0, 0, 0, 0, 0, 0, 0, 0, 0, 0, 0, 0, 0, 0, 0, 0, 0, 0, 0, 0, 0, 0, 0, 0, 0, 0, 0, 0, 0, 0, 0, 0, 0, 0, 0, 0, 0, 0, 0]\n",
      "*******************************************************************************\n",
      "[0, 0, 0, 0, 0, 0, 0, 0, 0, 0, 0, 0, 0, 0, 0, 0, 0, 0, 0, 0, 0, 0, 0, 0, 0, 0, 0, 0, 0, 0, 0, 0, 0, 0, 0, 0, 0, 0, 0, 0]\n",
      "40\n"
     ]
    }
   ],
   "source": [
    "#rep(0, times = 40)\n",
    "#easiset way\n",
    "print([0]*40)\n",
    "print('*'*79)\n",
    "#list comprehension\n",
    "rep = [0 for i in range(40)]\n",
    "print(rep)\n",
    "print(len(rep))"
   ]
  },
  {
   "cell_type": "code",
   "execution_count": 12,
   "metadata": {},
   "outputs": [
    {
     "name": "stdout",
     "output_type": "stream",
     "text": [
      "[0, 1, 2, 0, 1, 2, 0, 1, 2, 0, 1, 2, 0, 1, 2, 0, 1, 2, 0, 1, 2, 0, 1, 2, 0, 1, 2, 0, 1, 2]\n"
     ]
    }
   ],
   "source": [
    "#rep(c(0, 1, 2), times = 10)\n",
    "print([0,1,2]*10)\n",
    "#the python's equivalent of R's rep() is the list multiplication"
   ]
  },
  {
   "cell_type": "code",
   "execution_count": 13,
   "metadata": {},
   "outputs": [
    {
     "name": "stdout",
     "output_type": "stream",
     "text": [
      "[0, 0, 0, 0, 0, 0, 0, 0, 0, 0, 1, 1, 1, 1, 1, 1, 1, 1, 1, 1, 2, 2, 2, 2, 2, 2, 2, 2, 2, 2]\n"
     ]
    }
   ],
   "source": [
    "#rep(c(0, 1, 2), each = 10)\n",
    "print([j for j in [0,1,2] for i in range(10)])"
   ]
  },
  {
   "cell_type": "markdown",
   "metadata": {},
   "source": [
    "# 4. Vectors"
   ]
  },
  {
   "cell_type": "code",
   "execution_count": 14,
   "metadata": {},
   "outputs": [
    {
     "name": "stdout",
     "output_type": "stream",
     "text": [
      "[0.5, 55, -10, 6]\n"
     ]
    }
   ],
   "source": [
    "#num_vect <- c(0.5, 5.5, -10, 6)\n",
    "num_vect = [0.5, 55, -10, 6]\n",
    "print(num_vect)"
   ]
  },
  {
   "cell_type": "code",
   "execution_count": 15,
   "metadata": {},
   "outputs": [
    {
     "name": "stdout",
     "output_type": "stream",
     "text": [
      "[True, False, True, False]\n"
     ]
    }
   ],
   "source": [
    "#tf <- num_vect < 1\n",
    "tf = [i<1 for i in num_vect]\n",
    "print(tf)"
   ]
  },
  {
   "cell_type": "code",
   "execution_count": 16,
   "metadata": {},
   "outputs": [
    {
     "name": "stdout",
     "output_type": "stream",
     "text": [
      "[False, True, False, True]\n"
     ]
    }
   ],
   "source": [
    "#num_vect >= 6\n",
    "print([i>=6 for i in num_vect])"
   ]
  },
  {
   "cell_type": "code",
   "execution_count": 17,
   "metadata": {},
   "outputs": [
    {
     "data": {
      "text/plain": [
       "False"
      ]
     },
     "execution_count": 17,
     "metadata": {},
     "output_type": "execute_result"
    }
   ],
   "source": [
    "#(3 > 5) & (4 == 4)\n",
    "(3 > 5) & (4 == 4)"
   ]
  },
  {
   "cell_type": "code",
   "execution_count": 18,
   "metadata": {},
   "outputs": [
    {
     "data": {
      "text/plain": [
       "True"
      ]
     },
     "execution_count": 18,
     "metadata": {},
     "output_type": "execute_result"
    }
   ],
   "source": [
    "#(TRUE == TRUE) | (TRUE == FALSE)\n",
    "(True == True) | (True == False)"
   ]
  },
  {
   "cell_type": "markdown",
   "metadata": {},
   "source": [
    "Logical operators in python\n",
    "+ == equals\n",
    "+ != different from\n",
    "+ not opposite of"
   ]
  },
  {
   "cell_type": "code",
   "execution_count": 19,
   "metadata": {},
   "outputs": [
    {
     "data": {
      "text/plain": [
       "True"
      ]
     },
     "execution_count": 19,
     "metadata": {},
     "output_type": "execute_result"
    }
   ],
   "source": [
    "#((111 >= 111) | !(TRUE)) & ((4 + 1) == 5)\n",
    "((111 >= 111) | (not True)) & ((4 + 1) == 5)"
   ]
  },
  {
   "cell_type": "code",
   "execution_count": 20,
   "metadata": {},
   "outputs": [
    {
     "name": "stdout",
     "output_type": "stream",
     "text": [
      "['My', 'name', 'is']\n"
     ]
    }
   ],
   "source": [
    "#my_char <- c(\"My\", \"name\", \"is\")\n",
    "my_char = [\"My\", \"name\", \"is\"]\n",
    "print(my_char)"
   ]
  },
  {
   "cell_type": "code",
   "execution_count": 21,
   "metadata": {},
   "outputs": [
    {
     "name": "stdout",
     "output_type": "stream",
     "text": [
      "My name is\n"
     ]
    }
   ],
   "source": [
    "#paste(my_char, collapse = \" \")\n",
    "print(' '.join(my_char))"
   ]
  },
  {
   "cell_type": "code",
   "execution_count": 22,
   "metadata": {},
   "outputs": [
    {
     "name": "stdout",
     "output_type": "stream",
     "text": [
      "['My', 'name', 'is', 'Arnaud']\n",
      "[['My', 'name', 'is'], 'Thérèse']\n"
     ]
    }
   ],
   "source": [
    "#my_name <- c(my_char, \"Arnaud\")\n",
    "my_name = my_char + ['Arnaud']\n",
    "print(my_name)\n",
    "print([my_char, 'Thérèse'])"
   ]
  },
  {
   "cell_type": "code",
   "execution_count": 23,
   "metadata": {},
   "outputs": [
    {
     "name": "stdout",
     "output_type": "stream",
     "text": [
      "Hello world!\n"
     ]
    }
   ],
   "source": [
    "#paste(\"Hello\", \"world!\", sep = \" \")\n",
    "print(\"Hello\", \"world!\", sep = \" \")"
   ]
  },
  {
   "cell_type": "code",
   "execution_count": 24,
   "metadata": {},
   "outputs": [
    {
     "name": "stdout",
     "output_type": "stream",
     "text": [
      "['1X', '2Y', '3Z']\n"
     ]
    }
   ],
   "source": [
    "#paste(1:3, c(\"X\", \"Y\", \"Z\"), sep = \"\")\n",
    "print([ str(i)+j for (i,j) in zip(list(range(1,4)), [\"X\", \"Y\", \"Z\"])])"
   ]
  },
  {
   "cell_type": "markdown",
   "metadata": {},
   "source": [
    "The iterables need to be a pair of elements,so we need to use the zip function to convert a pair of 3 elements to a list of 3 pairs\n",
    "\n",
    "**NB: use of zip()**\n",
    "\n",
    "lambda x:list(zip(x)) is the python equivalent of the transposition in algebra\n"
   ]
  },
  {
   "cell_type": "code",
   "execution_count": 25,
   "metadata": {},
   "outputs": [
    {
     "name": "stdout",
     "output_type": "stream",
     "text": [
      "[(1, 'X'), (2, 'Y'), (3, 'Z')]\n",
      "([1, 2, 3], ['X', 'Y', 'Z'])\n"
     ]
    }
   ],
   "source": [
    "print(list(zip(list(range(1,4)), [\"X\", \"Y\", \"Z\"])))\n",
    "print((list(range(1,4)), [\"X\", \"Y\", \"Z\"]))"
   ]
  },
  {
   "cell_type": "code",
   "execution_count": 26,
   "metadata": {},
   "outputs": [
    {
     "name": "stdout",
     "output_type": "stream",
     "text": [
      "['A1', 'B2', 'C3', 'D4', 'E1', 'F2', 'G3', 'H4', 'I1', 'J2', 'K3', 'L4', 'M1', 'N2', 'O3', 'P4', 'Q1', 'R2', 'S3', 'T4', 'U1', 'V2', 'W3', 'X4', 'Y1', 'Z2']\n"
     ]
    }
   ],
   "source": [
    "#paste(LETTERS, 1:4, sep = \"-\")\n",
    "import itertools\n",
    "LETTERS = list(\"A\" \"B\" \"C\" \"D\" \"E\" \"F\" \"G\" \"H\" \"I\" \"J\" \"K\" \"L\" \"M\" \"N\" \"O\" \"P\" \"Q\" \"R\" \"S\" \"T\" \"U\" \"V\" \"W\" \"X\" \"Y\" \"Z\")\n",
    "print([ j+str(i) for (i,j) in zip(itertools.cycle(range(1,5)), LETTERS)])"
   ]
  },
  {
   "cell_type": "markdown",
   "metadata": {},
   "source": [
    "To replicate R's behaviour of looping until the longest list ends, we need to nest the shortest iterator with the itertools.cycle() function.\n",
    "\n",
    "NB: if we use \n",
    " + itertools.cycle() with itertools.zip_longest() instead of zip()\n",
    " + itertools.cycle() on both iterators \n",
    "\n",
    "we will end up with an infinte loop that will blow our computer memory\n"
   ]
  },
  {
   "cell_type": "code",
   "execution_count": 27,
   "metadata": {},
   "outputs": [
    {
     "name": "stdout",
     "output_type": "stream",
     "text": [
      "[(1, 'A'), (2, 'B'), (3, 'C')]\n",
      "*******************************************************************************\n",
      "[(1, 'A'), (2, 'B'), (3, 'C'), (None, 'D'), (None, 'E'), (None, 'F'), (None, 'G'), (None, 'H'), (None, 'I'), (None, 'J'), (None, 'K'), (None, 'L'), (None, 'M'), (None, 'N'), (None, 'O'), (None, 'P'), (None, 'Q'), (None, 'R'), (None, 'S'), (None, 'T'), (None, 'U'), (None, 'V'), (None, 'W'), (None, 'X'), (None, 'Y'), (None, 'Z')]\n"
     ]
    }
   ],
   "source": [
    "print(list(zip(list(range(1,4)), list(LETTERS))))\n",
    "print(79*'*')\n",
    "print(list(itertools.zip_longest(list(range(1,4)), list(LETTERS))))"
   ]
  },
  {
   "cell_type": "markdown",
   "metadata": {},
   "source": [
    "**R**\n",
    "\n",
    "Also worth noting is that the numeric vector 1:4 gets 'coerced' into a character vector by the paste() function.\n",
    "\n",
    "**python**\n",
    "\n",
    "R's coercion concept is called casting in python and other \"low-level\" programming languages (C++, Java). In python casting needs to be explicitely performed through the use of the str() function"
   ]
  },
  {
   "cell_type": "markdown",
   "metadata": {},
   "source": [
    "# 5. Missing values"
   ]
  },
  {
   "cell_type": "code",
   "execution_count": 28,
   "metadata": {},
   "outputs": [
    {
     "data": {
      "text/plain": [
       "nan"
      ]
     },
     "execution_count": 28,
     "metadata": {},
     "output_type": "execute_result"
    }
   ],
   "source": [
    "#in python, NaN is not handled by default, but the numpy package implements it\n",
    "import numpy as np\n",
    "np.nan"
   ]
  },
  {
   "cell_type": "code",
   "execution_count": 29,
   "metadata": {},
   "outputs": [
    {
     "name": "stdout",
     "output_type": "stream",
     "text": [
      "[44, nan, 5, nan]\n"
     ]
    }
   ],
   "source": [
    "# x <- c(44, NA, 5, NA)\n",
    "x = [44, np.nan, 5, np.nan]\n",
    "print(x)"
   ]
  },
  {
   "cell_type": "code",
   "execution_count": 30,
   "metadata": {},
   "outputs": [
    {
     "name": "stdout",
     "output_type": "stream",
     "text": [
      "[132, nan, 15, nan]\n"
     ]
    }
   ],
   "source": [
    "# x*3\n",
    "print([3*a for a in x])"
   ]
  },
  {
   "cell_type": "code",
   "execution_count": 31,
   "metadata": {},
   "outputs": [
    {
     "name": "stdout",
     "output_type": "stream",
     "text": [
      "[  1.82658656e-02   5.56473423e-01   7.32087733e-02   6.44883479e-01\n",
      "   8.31305560e-01   4.49926951e-01   6.27780103e-01   6.23305040e-04\n",
      "   8.85043183e-01   7.34694189e-02]\n"
     ]
    }
   ],
   "source": [
    "#y <- rnorm(1000)\n",
    "y = np.random.rand(10)\n",
    "print(y[:23])"
   ]
  },
  {
   "cell_type": "code",
   "execution_count": 32,
   "metadata": {},
   "outputs": [
    {
     "name": "stdout",
     "output_type": "stream",
     "text": [
      "[nan, nan, nan, nan, nan, nan, nan, nan, nan, nan]\n"
     ]
    }
   ],
   "source": [
    "#z <- rep(NA, 1000)\n",
    "z = [np.nan]*10\n",
    "print(z[:23])"
   ]
  },
  {
   "cell_type": "code",
   "execution_count": 33,
   "metadata": {},
   "outputs": [
    {
     "name": "stdout",
     "output_type": "stream",
     "text": [
      "[        nan  0.07320877         nan  0.64488348         nan  0.64488348\n",
      "         nan         nan  0.01826587  0.01826587  0.6277801          nan\n",
      "         nan  0.01826587         nan  0.01826587         nan  0.88504318\n",
      "  0.07346942  0.88504318         nan         nan  0.44992695]\n"
     ]
    }
   ],
   "source": [
    "#my_data <- sample(c(y, z), 100)\n",
    "# python's equivalent of R's sample() function is np.random.choice(),\n",
    "# but it takes only 1 list as argument, so we have to concatenate the 2 lists in 1 first\n",
    "my_data = z[:] #avoid modifying z \n",
    "#NB: my_data = z set the 'z' and 'my_data' pointers to the same address\n",
    "my_data.extend(y)\n",
    "my_data = np.random.choice(my_data,100)\n",
    "print(my_data[:23])"
   ]
  },
  {
   "cell_type": "code",
   "execution_count": 34,
   "metadata": {},
   "outputs": [
    {
     "name": "stdout",
     "output_type": "stream",
     "text": [
      "[True, False, True, False, True, False, True, True, False, False, False, True, True, False, True, False, True, False, False, False, True, True, False, False, False, False, False, False, False, False, True, False, False, False, False, False, False, True, False, False, False, True, True, False, True, True, True, True, True, False, False, True, False, False, False, True, False, True, True, True, True, False, False, True, True, False, True, False, False, False, True, True, False, False, True, False, False, True, False, True, True, True, False, False, True, False, False, False, False, False, False, True, False, False, True, True, False, True, False, False]\n",
      "*******************************************************************************\n",
      "[True, False, True, False, True, False, True, True, False, False, False, True, True, False, True, False, True, False, False, False, True, True, False, False, False, False, False, False, False, False, True, False, False, False, False, False, False, True, False, False, False, True, True, False, True, True, True, True, True, False, False, True, False, False, False, True, False, True, True, True, True, False, False, True, True, False, True, False, False, False, True, True, False, False, True, False, False, True, False, True, True, True, False, False, True, False, False, False, False, False, False, True, False, False, True, True, False, True, False, False]\n"
     ]
    }
   ],
   "source": [
    "#my_na <- is.na(my_data)\n",
    "my_na = [np.isnan(a) for a in my_data]\n",
    "print(my_na)\n",
    "#other option (numpy works similarly as R)\n",
    "# NB: on a large list, this solution is slower than the first one, which uses low-level syntax\n",
    "print(79*\"*\")\n",
    "my_na2 = np.isnan(my_data)\n",
    "print(my_na)"
   ]
  },
  {
   "cell_type": "code",
   "execution_count": 35,
   "metadata": {},
   "outputs": [
    {
     "data": {
      "text/plain": [
       "41"
      ]
     },
     "execution_count": 35,
     "metadata": {},
     "output_type": "execute_result"
    }
   ],
   "source": [
    "#sum(my_na)\n",
    "sum(my_na)\n",
    "#once in a while pyhton and R match =)"
   ]
  },
  {
   "cell_type": "code",
   "execution_count": 36,
   "metadata": {},
   "outputs": [
    {
     "ename": "ZeroDivisionError",
     "evalue": "division by zero",
     "output_type": "error",
     "traceback": [
      "\u001b[0;31m---------------------------------------------------------------------------\u001b[0m",
      "\u001b[0;31mZeroDivisionError\u001b[0m                         Traceback (most recent call last)",
      "\u001b[0;32m<ipython-input-36-7d8303b9a86f>\u001b[0m in \u001b[0;36m<module>\u001b[0;34m()\u001b[0m\n\u001b[1;32m      1\u001b[0m \u001b[0;31m#0/0\u001b[0m\u001b[0;34m\u001b[0m\u001b[0;34m\u001b[0m\u001b[0m\n\u001b[0;32m----> 2\u001b[0;31m \u001b[0;36m0\u001b[0m\u001b[0;34m/\u001b[0m\u001b[0;36m0\u001b[0m\u001b[0;34m\u001b[0m\u001b[0m\n\u001b[0m\u001b[1;32m      3\u001b[0m \u001b[0;31m# R returns nan, python throws an error\u001b[0m\u001b[0;34m\u001b[0m\u001b[0;34m\u001b[0m\u001b[0m\n",
      "\u001b[0;31mZeroDivisionError\u001b[0m: division by zero"
     ]
    }
   ],
   "source": [
    "#0/0\n",
    "0/0\n",
    "# R returns nan, python throws an error"
   ]
  },
  {
   "cell_type": "markdown",
   "metadata": {},
   "source": [
    "# 6. Subsetting Vectors"
   ]
  },
  {
   "cell_type": "code",
   "execution_count": 37,
   "metadata": {},
   "outputs": [
    {
     "name": "stdout",
     "output_type": "stream",
     "text": [
      "[0.72273237543265956, 0.043760110666245744, 0.74358482414683236, 0.8618010299126595, 0.057467361165623898, 0.39746586738433853, 0.38257964821204549, 0.68719454746351993, 0.92649772479021808, 0.75153126289981165, 0.44571566725401035, 0.78504880691747936, 0.68732690739718161, 0.95454321772941253, 0.57570144128889467, 0.42160260507014768, 0.71786737620490981, 0.37526820610084821, 0.052401334037102898, 0.78278225653871669, nan, nan, nan, nan, nan, nan, nan, nan, nan, nan, nan, nan, nan, nan, nan, nan, nan, nan, nan, nan]\n"
     ]
    }
   ],
   "source": [
    "import numpy as np\n",
    "x = list(np.random.rand(20))\n",
    "x.extend([np.nan]*20)\n",
    "print(x)"
   ]
  },
  {
   "cell_type": "code",
   "execution_count": 38,
   "metadata": {},
   "outputs": [
    {
     "name": "stdout",
     "output_type": "stream",
     "text": [
      "[0.72273237543265956, 0.043760110666245744, 0.74358482414683236, 0.8618010299126595, 0.057467361165623898, 0.39746586738433853, 0.38257964821204549, 0.68719454746351993, 0.92649772479021808, 0.75153126289981165]\n",
      "10\n"
     ]
    }
   ],
   "source": [
    "#x[1:10]\n",
    "print(x[:10])\n",
    "print(len(x[:10]))\n",
    "#in python, indexes start at 0 and slicing does not include the last index"
   ]
  },
  {
   "cell_type": "code",
   "execution_count": 39,
   "metadata": {},
   "outputs": [
    {
     "name": "stdout",
     "output_type": "stream",
     "text": [
      "[0.72273237543265956, 0.043760110666245744, 0.74358482414683236, 0.8618010299126595, 0.057467361165623898, 0.39746586738433853, 0.38257964821204549, 0.68719454746351993, 0.92649772479021808, 0.75153126289981165, 0.44571566725401035, 0.78504880691747936, 0.68732690739718161, 0.95454321772941253, 0.57570144128889467, 0.42160260507014768, 0.71786737620490981, 0.37526820610084821, 0.052401334037102898, 0.78278225653871669]\n",
      "20\n"
     ]
    }
   ],
   "source": [
    "#y <- x[!is.na(x)]\n",
    "y = [a for a in x if not np.isnan(a)]\n",
    "print(y)\n",
    "print(len(y))"
   ]
  },
  {
   "cell_type": "code",
   "execution_count": 40,
   "metadata": {},
   "outputs": [
    {
     "name": "stdout",
     "output_type": "stream",
     "text": [
      "[0.72273237543265956, 0.043760110666245744, 0.74358482414683236, 0.8618010299126595, 0.057467361165623898, 0.39746586738433853, 0.38257964821204549, 0.68719454746351993, 0.92649772479021808, 0.75153126289981165, 0.44571566725401035, 0.78504880691747936, 0.68732690739718161, 0.95454321772941253, 0.57570144128889467, 0.42160260507014768, 0.71786737620490981, 0.37526820610084821, 0.052401334037102898, 0.78278225653871669]\n"
     ]
    }
   ],
   "source": [
    "#y[y > 0] \n",
    "print([a for a in y if a> 0] )"
   ]
  },
  {
   "cell_type": "markdown",
   "metadata": {},
   "source": [
    "In python, nan numbers always return False when used in a boolean expression"
   ]
  },
  {
   "cell_type": "code",
   "execution_count": 41,
   "metadata": {},
   "outputs": [
    {
     "name": "stdout",
     "output_type": "stream",
     "text": [
      "False\n",
      "False\n",
      "False\n"
     ]
    }
   ],
   "source": [
    "print(np.nan == True)\n",
    "print(np.nan == False)\n",
    "print(np.nan > 1)"
   ]
  },
  {
   "cell_type": "code",
   "execution_count": 42,
   "metadata": {},
   "outputs": [
    {
     "data": {
      "text/plain": [
       "[0.8618010299126595, 0.39746586738433853, 0.68719454746351993]"
      ]
     },
     "execution_count": 42,
     "metadata": {},
     "output_type": "execute_result"
    }
   ],
   "source": [
    "#x[c(3,5,7)]\n",
    "[x[3], x[5], x[7]]"
   ]
  },
  {
   "cell_type": "code",
   "execution_count": 43,
   "metadata": {},
   "outputs": [
    {
     "name": "stdout",
     "output_type": "stream",
     "text": [
      "[0.72273237543265956, 0.043760110666245744, 0.8618010299126595, 0.057467361165623898, 0.39746586738433853, 0.38257964821204549, 0.68719454746351993, 0.92649772479021808, 0.75153126289981165, 0.78504880691747936, 0.68732690739718161, 0.95454321772941253, 0.57570144128889467, 0.42160260507014768, 0.71786737620490981, 0.37526820610084821, 0.052401334037102898, 0.78278225653871669, nan, nan, nan, nan, nan, nan, nan, nan, nan, nan, nan, nan, nan, nan, nan, nan, nan, nan, nan, nan]\n",
      "38\n",
      "*******************************************************************************\n",
      "[0.72273237543265956, 0.74358482414683236, 0.8618010299126595, 0.057467361165623898, 0.39746586738433853, 0.38257964821204549, 0.68719454746351993, 0.92649772479021808, 0.75153126289981165, 0.78504880691747936, 0.68732690739718161, 0.95454321772941253, 0.57570144128889467, 0.42160260507014768, 0.71786737620490981, 0.37526820610084821, 0.052401334037102898, 0.78278225653871669, nan, nan, nan, nan, nan, nan, nan, nan, nan, nan, nan, nan, nan, nan, nan, nan, nan, nan, nan, nan]\n",
      "38\n"
     ]
    }
   ],
   "source": [
    "#x[c(-2, -10)]\n",
    "res = x[:2]\n",
    "res.extend(x[3:10])\n",
    "res.extend(x[11:])\n",
    "print(res)\n",
    "print(len(res))\n",
    "\n",
    "#other method\n",
    "print('*'*79)\n",
    "res = x[:]\n",
    "res.pop(1)\n",
    "res.pop(9)\n",
    "print(res)\n",
    "print(len(res))"
   ]
  },
  {
   "cell_type": "markdown",
   "metadata": {},
   "source": [
    "In python, \"named lists\" are called dictionnaries. They have the same kind of features as R's string-keyed lists."
   ]
  },
  {
   "cell_type": "code",
   "execution_count": 44,
   "metadata": {},
   "outputs": [
    {
     "name": "stdout",
     "output_type": "stream",
     "text": [
      "{'foo': 11, 'bar': 2, 'norf': nan}\n"
     ]
    }
   ],
   "source": [
    "#vect <- c(foo = 11, bar = 2, norf = NA)\n",
    "dic = {'foo': 11, 'bar': 2, 'norf': np.nan}\n",
    "print(dic)"
   ]
  },
  {
   "cell_type": "code",
   "execution_count": 45,
   "metadata": {},
   "outputs": [
    {
     "name": "stdout",
     "output_type": "stream",
     "text": [
      "['foo', 'bar', 'norf']\n"
     ]
    }
   ],
   "source": [
    "#names(vect)\n",
    "print(list(dic.keys()))"
   ]
  },
  {
   "cell_type": "code",
   "execution_count": 46,
   "metadata": {},
   "outputs": [
    {
     "name": "stdout",
     "output_type": "stream",
     "text": [
      "{'foo': 11, 'bar': 2, 'norf': nan}\n"
     ]
    }
   ],
   "source": [
    "#vect2 <- c(11, 2, NA)\n",
    "#names(vect2) <- c(\"foo\", \"bar\", \"norf\")\n",
    "dic2 = dict(zip(['foo', 'bar', 'norf'], [11,2, np.nan]))\n",
    "print(dic2)"
   ]
  },
  {
   "cell_type": "code",
   "execution_count": 47,
   "metadata": {},
   "outputs": [
    {
     "data": {
      "text/plain": [
       "True"
      ]
     },
     "execution_count": 47,
     "metadata": {},
     "output_type": "execute_result"
    }
   ],
   "source": [
    "#identical(vect,vect2)\n",
    "dic == dic2"
   ]
  },
  {
   "cell_type": "code",
   "execution_count": 48,
   "metadata": {},
   "outputs": [
    {
     "name": "stdout",
     "output_type": "stream",
     "text": [
      "2\n",
      "{'foo': 11, 'bar': 2}\n"
     ]
    }
   ],
   "source": [
    "#vect[\"bar\"]\n",
    "print(dic[\"bar\"])\n",
    "#vect[c(\"foo\", \"bar\")]\n",
    "print({k:v for (k,v) in dic.items() if k in ['foo', 'bar']})"
   ]
  },
  {
   "cell_type": "markdown",
   "metadata": {},
   "source": [
    "In python, comprehension also works for dictionnaries"
   ]
  },
  {
   "cell_type": "markdown",
   "metadata": {
    "collapsed": true
   },
   "source": [
    "# 7. Matrices and Data Frames"
   ]
  },
  {
   "cell_type": "markdown",
   "metadata": {},
   "source": [
    "In python, matrices are implemented in the *numpy* package while data frames are implemented in the *pandas* package. Here are the corresponding documentations\n",
    " + __[np.matrix](https://pandas.pydata.org/pandas-docs/stable/reference/api/pandas.DataFrame.html)__\n",
    " + __[DataFrame](https://pandas.pydata.org/pandas-docs/stable/reference/api/pandas.DataFrame.html)__"
   ]
  },
  {
   "cell_type": "code",
   "execution_count": 49,
   "metadata": {},
   "outputs": [
    {
     "name": "stdout",
     "output_type": "stream",
     "text": [
      "[1, 2, 3, 4, 5, 6, 7, 8, 9, 10, 11, 12, 13, 14, 15, 16, 17, 18, 19, 20]\n"
     ]
    }
   ],
   "source": [
    "#my_vector <- 1:20\n",
    "my_vector = list(range(1,21))\n",
    "print(my_vector)"
   ]
  },
  {
   "cell_type": "code",
   "execution_count": 50,
   "metadata": {},
   "outputs": [
    {
     "ename": "AttributeError",
     "evalue": "'list' object has no attribute 'ndim'",
     "output_type": "error",
     "traceback": [
      "\u001b[0;31m---------------------------------------------------------------------------\u001b[0m",
      "\u001b[0;31mAttributeError\u001b[0m                            Traceback (most recent call last)",
      "\u001b[0;32m<ipython-input-50-30975ec2d371>\u001b[0m in \u001b[0;36m<module>\u001b[0;34m()\u001b[0m\n\u001b[1;32m      1\u001b[0m \u001b[0;31m#dim(my_vector)\u001b[0m\u001b[0;34m\u001b[0m\u001b[0;34m\u001b[0m\u001b[0m\n\u001b[1;32m      2\u001b[0m \u001b[0;31m#in python the dimension function *dim* is also not implemented for lists\u001b[0m\u001b[0;34m\u001b[0m\u001b[0;34m\u001b[0m\u001b[0m\n\u001b[0;32m----> 3\u001b[0;31m \u001b[0mmy_vector\u001b[0m\u001b[0;34m.\u001b[0m\u001b[0mndim\u001b[0m\u001b[0;34m(\u001b[0m\u001b[0;34m)\u001b[0m\u001b[0;34m\u001b[0m\u001b[0m\n\u001b[0m",
      "\u001b[0;31mAttributeError\u001b[0m: 'list' object has no attribute 'ndim'"
     ]
    }
   ],
   "source": [
    "#dim(my_vector)\n",
    "#in python the dimension function *dim* is also not implemented for lists\n",
    "my_vector.ndim()"
   ]
  },
  {
   "cell_type": "code",
   "execution_count": 51,
   "metadata": {},
   "outputs": [
    {
     "data": {
      "text/plain": [
       "20"
      ]
     },
     "execution_count": 51,
     "metadata": {},
     "output_type": "execute_result"
    }
   ],
   "source": [
    "#length(my_vector)\n",
    "len(my_vector)"
   ]
  },
  {
   "cell_type": "code",
   "execution_count": 52,
   "metadata": {},
   "outputs": [
    {
     "name": "stdout",
     "output_type": "stream",
     "text": [
      "[[1 2 3 4 5]\n",
      " [2 3 4 5 6]\n",
      " [3 4 5 6 7]\n",
      " [4 5 6 7 8]]\n"
     ]
    }
   ],
   "source": [
    "#dim(my_vector) <- c(4, 5)\n",
    "my_matrix = np.matrix([my_vector[i:i+5] for i in range(4)])\n",
    "print(my_matrix)"
   ]
  },
  {
   "cell_type": "code",
   "execution_count": 53,
   "metadata": {},
   "outputs": [
    {
     "name": "stdout",
     "output_type": "stream",
     "text": [
      "<class 'list'>\n",
      "<class 'numpy.matrixlib.defmatrix.matrix'>\n"
     ]
    }
   ],
   "source": [
    "#class(my_vector)\n",
    "print(type(my_vector))\n",
    "print(type(my_matrix))"
   ]
  },
  {
   "cell_type": "code",
   "execution_count": 54,
   "metadata": {
    "collapsed": true
   },
   "outputs": [],
   "source": [
    "#patients <- c(\"Bill\", \"Gina\", \"Kelly\", \"Sean\")\n",
    "patients = [\"Bill\", \"Gina\", \"Kelly\", \"Sean\"]"
   ]
  },
  {
   "cell_type": "code",
   "execution_count": 55,
   "metadata": {
    "collapsed": true
   },
   "outputs": [],
   "source": [
    "#cbind(patients, my_matrix)\n",
    "#python does not allow this confusing syntax"
   ]
  },
  {
   "cell_type": "code",
   "execution_count": 56,
   "metadata": {},
   "outputs": [
    {
     "name": "stdout",
     "output_type": "stream",
     "text": [
      "       0  1  2  3  4\n",
      "Bill   1  2  3  4  5\n",
      "Gina   2  3  4  5  6\n",
      "Kelly  3  4  5  6  7\n",
      "Sean   4  5  6  7  8\n",
      "*******************************************************************************\n",
      "       0  1  2  3  4\n",
      "Bill   1  2  3  4  5\n",
      "Gina   2  3  4  5  6\n",
      "Kelly  3  4  5  6  7\n",
      "Sean   4  5  6  7  8\n"
     ]
    }
   ],
   "source": [
    "#my_data <- data.frame(patients, my_matrix)\n",
    "import pandas as pd\n",
    "my_data = pd.DataFrame(index = patients, data = my_matrix)\n",
    "print(my_data)\n",
    "#NB: if we want to ommit the labels, we have to put the data first and then then index.\n",
    "print('*'*79)\n",
    "print(pd.DataFrame( my_matrix, patients))"
   ]
  },
  {
   "cell_type": "code",
   "execution_count": 57,
   "metadata": {},
   "outputs": [
    {
     "name": "stdout",
     "output_type": "stream",
     "text": [
      "<class 'pandas.core.frame.DataFrame'>\n"
     ]
    }
   ],
   "source": [
    "#class(my_data)\n",
    "print(type(my_data))"
   ]
  },
  {
   "cell_type": "code",
   "execution_count": 58,
   "metadata": {},
   "outputs": [
    {
     "name": "stdout",
     "output_type": "stream",
     "text": [
      "         age  weight  bp  rating  test\n",
      "patient                               \n",
      "Bill       1       2   3       4     5\n",
      "Gina       2       3   4       5     6\n",
      "Kelly      3       4   5       6     7\n",
      "Sean       4       5   6       7     8\n"
     ]
    }
   ],
   "source": [
    "#cnames <- c(\"patient\", \"age\", \"weight\", \"bp\", \"rating\", \"test\")\n",
    "#colnames(my_data) <- cnames\n",
    "my_data.columns = [\"age\", \"weight\", \"bp\", \"rating\", \"test\"]\n",
    "my_data.index.name = 'patient' # in python column and index names are handled separately\n",
    "print(my_data)"
   ]
  },
  {
   "cell_type": "markdown",
   "metadata": {},
   "source": [
    "# 8. Looking at data"
   ]
  },
  {
   "cell_type": "markdown",
   "metadata": {},
   "source": [
    "ToDo:\n",
    "+ save the *plants* data in a csv file\n",
    "+ load it with Python\n",
    "+ do the chapter"
   ]
  },
  {
   "cell_type": "code",
   "execution_count": 59,
   "metadata": {},
   "outputs": [
    {
     "name": "stdout",
     "output_type": "stream",
     "text": [
      "['In', 'LETTERS', 'Out', '_', '_17', '_18', '_19', '_2', '_28', '_35', '_42', '_47', '_51', '_7', '__', '___', '__builtin__', '__builtins__', '__doc__', '__loader__', '__name__', '__package__', '__spec__', '_dh', '_i', '_i1', '_i10', '_i11', '_i12', '_i13', '_i14', '_i15', '_i16', '_i17', '_i18', '_i19', '_i2', '_i20', '_i21', '_i22', '_i23', '_i24', '_i25', '_i26', '_i27', '_i28', '_i29', '_i3', '_i30', '_i31', '_i32', '_i33', '_i34', '_i35', '_i36', '_i37', '_i38', '_i39', '_i4', '_i40', '_i41', '_i42', '_i43', '_i44', '_i45', '_i46', '_i47', '_i48', '_i49', '_i5', '_i50', '_i51', '_i52', '_i53', '_i54', '_i55', '_i56', '_i57', '_i58', '_i59', '_i6', '_i7', '_i8', '_i9', '_ih', '_ii', '_iii', '_oh', '_sh', 'a', 'by', 'dic', 'dic2', 'end', 'exit', 'get_ipython', 'itertools', 'math', 'my_char', 'my_data', 'my_matrix', 'my_na', 'my_na2', 'my_name', 'my_seq', 'my_vector', 'nb', 'np', 'num_vect', 'patients', 'pd', 'quit', 'rep', 'res', 'start', 'tf', 'x', 'y', 'z']\n"
     ]
    }
   ],
   "source": [
    "#ls()\n",
    "print(dir())"
   ]
  },
  {
   "cell_type": "code",
   "execution_count": 60,
   "metadata": {
    "collapsed": true
   },
   "outputs": [],
   "source": [
    "#class(plants)\n"
   ]
  },
  {
   "cell_type": "code",
   "execution_count": 61,
   "metadata": {
    "collapsed": true
   },
   "outputs": [],
   "source": [
    "#dim(plants)\n"
   ]
  },
  {
   "cell_type": "code",
   "execution_count": 62,
   "metadata": {
    "collapsed": true
   },
   "outputs": [],
   "source": [
    "#nrow(plants)"
   ]
  },
  {
   "cell_type": "code",
   "execution_count": 63,
   "metadata": {
    "collapsed": true
   },
   "outputs": [],
   "source": [
    "#ncol(plants)"
   ]
  },
  {
   "cell_type": "code",
   "execution_count": 64,
   "metadata": {
    "collapsed": true
   },
   "outputs": [],
   "source": [
    "#object.size(plants)"
   ]
  },
  {
   "cell_type": "code",
   "execution_count": 65,
   "metadata": {},
   "outputs": [
    {
     "ename": "NameError",
     "evalue": "name 'plants' is not defined",
     "output_type": "error",
     "traceback": [
      "\u001b[0;31m---------------------------------------------------------------------------\u001b[0m",
      "\u001b[0;31mNameError\u001b[0m                                 Traceback (most recent call last)",
      "\u001b[0;32m<ipython-input-65-abaebbc84b91>\u001b[0m in \u001b[0;36m<module>\u001b[0;34m()\u001b[0m\n\u001b[1;32m      1\u001b[0m \u001b[0;31m#names(plants)\u001b[0m\u001b[0;34m\u001b[0m\u001b[0;34m\u001b[0m\u001b[0m\n\u001b[0;32m----> 2\u001b[0;31m \u001b[0mprint\u001b[0m\u001b[0;34m(\u001b[0m\u001b[0mplants\u001b[0m\u001b[0;34m.\u001b[0m\u001b[0mcolumns\u001b[0m\u001b[0;34m.\u001b[0m\u001b[0mname\u001b[0m\u001b[0;34m)\u001b[0m\u001b[0;34m\u001b[0m\u001b[0m\n\u001b[0m",
      "\u001b[0;31mNameError\u001b[0m: name 'plants' is not defined"
     ]
    }
   ],
   "source": [
    "#names(plants)\n",
    "print(plants.columns.name)"
   ]
  },
  {
   "cell_type": "code",
   "execution_count": null,
   "metadata": {},
   "outputs": [],
   "source": [
    "#head(plants)\n",
    "plants.head()"
   ]
  },
  {
   "cell_type": "code",
   "execution_count": null,
   "metadata": {
    "collapsed": true
   },
   "outputs": [],
   "source": [
    "#head(plants,10)\n",
    "plants.head(10)"
   ]
  },
  {
   "cell_type": "code",
   "execution_count": null,
   "metadata": {
    "collapsed": true
   },
   "outputs": [],
   "source": [
    "#tail(plants,15)\n",
    "plants.tail(15)"
   ]
  },
  {
   "cell_type": "code",
   "execution_count": null,
   "metadata": {
    "collapsed": true
   },
   "outputs": [],
   "source": [
    "#summary(plants)\n"
   ]
  },
  {
   "cell_type": "markdown",
   "metadata": {},
   "source": [
    "# 9. Base graphics"
   ]
  },
  {
   "cell_type": "markdown",
   "metadata": {
    "collapsed": true
   },
   "source": [
    "ToDo:\n",
    "+ learn ggplot2\n",
    "+ do the chapter in Python"
   ]
  },
  {
   "cell_type": "code",
   "execution_count": null,
   "metadata": {
    "collapsed": true
   },
   "outputs": [],
   "source": []
  },
  {
   "cell_type": "code",
   "execution_count": null,
   "metadata": {
    "collapsed": true
   },
   "outputs": [],
   "source": []
  },
  {
   "cell_type": "code",
   "execution_count": null,
   "metadata": {
    "collapsed": true
   },
   "outputs": [],
   "source": []
  }
 ],
 "metadata": {
  "kernelspec": {
   "display_name": "Python 3",
   "language": "python",
   "name": "python3"
  },
  "language_info": {
   "codemirror_mode": {
    "name": "ipython",
    "version": 3
   },
   "file_extension": ".py",
   "mimetype": "text/x-python",
   "name": "python",
   "nbconvert_exporter": "python",
   "pygments_lexer": "ipython3",
   "version": "3.6.1"
  }
 },
 "nbformat": 4,
 "nbformat_minor": 2
}
